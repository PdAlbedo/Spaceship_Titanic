{
 "cells": [
  {
   "cell_type": "code",
   "execution_count": 45,
   "metadata": {
    "collapsed": true,
    "pycharm": {
     "name": "#%%\n"
    }
   },
   "outputs": [],
   "source": [
    "from IPython.display import clear_output\n",
    "clear_output()"
   ]
  },
  {
   "cell_type": "code",
   "execution_count": 46,
   "outputs": [],
   "source": [
    "import numpy as np\n",
    "import pandas as pd\n",
    "import seaborn as sns\n",
    "import plotly.express as px\n",
    "import matplotlib.pyplot as plt\n",
    "import plotly.graph_objects as go\n",
    "from plotly.subplots import make_subplots\n",
    "\n",
    "from sklearn.impute import SimpleImputer\n",
    "from sklearn.metrics import accuracy_score\n",
    "from sklearn.preprocessing import LabelEncoder\n",
    "from sklearn.model_selection import StratifiedKFold, train_test_split\n",
    "\n",
    "import lazypredict\n",
    "from lightgbm import LGBMClassifier\n",
    "from lazypredict.Supervised import LazyClassifier\n",
    "\n",
    "import time\n",
    "import warnings\n",
    "warnings.filterwarnings('ignore')"
   ],
   "metadata": {
    "collapsed": false,
    "pycharm": {
     "name": "#%%\n"
    }
   }
  },
  {
   "cell_type": "markdown",
   "source": [
    "Read the datasets"
   ],
   "metadata": {
    "collapsed": false,
    "pycharm": {
     "name": "#%% md\n"
    }
   }
  },
  {
   "cell_type": "code",
   "execution_count": 47,
   "outputs": [],
   "source": [
    "train = pd.read_csv('train.csv')\n",
    "test = pd.read_csv('test.csv')\n",
    "submission = pd.read_csv('sample_submission.csv')\n",
    "\n",
    "RANDOM_STATE = 12\n",
    "FOLDS = 5\n",
    "STRATEGY = 'median'"
   ],
   "metadata": {
    "collapsed": false,
    "pycharm": {
     "name": "#%%\n"
    }
   }
  },
  {
   "cell_type": "markdown",
   "source": [
    "## Explore the training set"
   ],
   "metadata": {
    "collapsed": false,
    "pycharm": {
     "name": "#%% md\n"
    }
   }
  },
  {
   "cell_type": "code",
   "execution_count": 48,
   "outputs": [
    {
     "data": {
      "text/plain": "  PassengerId HomePlanet CryoSleep  Cabin  Destination   Age    VIP  \\\n0     0001_01     Europa     False  B/0/P  TRAPPIST-1e 39.00  False   \n1     0002_01      Earth     False  F/0/S  TRAPPIST-1e 24.00  False   \n2     0003_01     Europa     False  A/0/S  TRAPPIST-1e 58.00   True   \n3     0003_02     Europa     False  A/0/S  TRAPPIST-1e 33.00  False   \n4     0004_01      Earth     False  F/1/S  TRAPPIST-1e 16.00  False   \n\n   RoomService  FoodCourt  ShoppingMall     Spa  VRDeck               Name  \\\n0         0.00       0.00          0.00    0.00    0.00    Maham Ofracculy   \n1       109.00       9.00         25.00  549.00   44.00       Juanna Vines   \n2        43.00    3576.00          0.00 6715.00   49.00      Altark Susent   \n3         0.00    1283.00        371.00 3329.00  193.00       Solam Susent   \n4       303.00      70.00        151.00  565.00    2.00  Willy Santantines   \n\n   Transported  \n0        False  \n1         True  \n2        False  \n3        False  \n4         True  ",
      "text/html": "<div>\n<style scoped>\n    .dataframe tbody tr th:only-of-type {\n        vertical-align: middle;\n    }\n\n    .dataframe tbody tr th {\n        vertical-align: top;\n    }\n\n    .dataframe thead th {\n        text-align: right;\n    }\n</style>\n<table border=\"1\" class=\"dataframe\">\n  <thead>\n    <tr style=\"text-align: right;\">\n      <th></th>\n      <th>PassengerId</th>\n      <th>HomePlanet</th>\n      <th>CryoSleep</th>\n      <th>Cabin</th>\n      <th>Destination</th>\n      <th>Age</th>\n      <th>VIP</th>\n      <th>RoomService</th>\n      <th>FoodCourt</th>\n      <th>ShoppingMall</th>\n      <th>Spa</th>\n      <th>VRDeck</th>\n      <th>Name</th>\n      <th>Transported</th>\n    </tr>\n  </thead>\n  <tbody>\n    <tr>\n      <th>0</th>\n      <td>0001_01</td>\n      <td>Europa</td>\n      <td>False</td>\n      <td>B/0/P</td>\n      <td>TRAPPIST-1e</td>\n      <td>39.00</td>\n      <td>False</td>\n      <td>0.00</td>\n      <td>0.00</td>\n      <td>0.00</td>\n      <td>0.00</td>\n      <td>0.00</td>\n      <td>Maham Ofracculy</td>\n      <td>False</td>\n    </tr>\n    <tr>\n      <th>1</th>\n      <td>0002_01</td>\n      <td>Earth</td>\n      <td>False</td>\n      <td>F/0/S</td>\n      <td>TRAPPIST-1e</td>\n      <td>24.00</td>\n      <td>False</td>\n      <td>109.00</td>\n      <td>9.00</td>\n      <td>25.00</td>\n      <td>549.00</td>\n      <td>44.00</td>\n      <td>Juanna Vines</td>\n      <td>True</td>\n    </tr>\n    <tr>\n      <th>2</th>\n      <td>0003_01</td>\n      <td>Europa</td>\n      <td>False</td>\n      <td>A/0/S</td>\n      <td>TRAPPIST-1e</td>\n      <td>58.00</td>\n      <td>True</td>\n      <td>43.00</td>\n      <td>3576.00</td>\n      <td>0.00</td>\n      <td>6715.00</td>\n      <td>49.00</td>\n      <td>Altark Susent</td>\n      <td>False</td>\n    </tr>\n    <tr>\n      <th>3</th>\n      <td>0003_02</td>\n      <td>Europa</td>\n      <td>False</td>\n      <td>A/0/S</td>\n      <td>TRAPPIST-1e</td>\n      <td>33.00</td>\n      <td>False</td>\n      <td>0.00</td>\n      <td>1283.00</td>\n      <td>371.00</td>\n      <td>3329.00</td>\n      <td>193.00</td>\n      <td>Solam Susent</td>\n      <td>False</td>\n    </tr>\n    <tr>\n      <th>4</th>\n      <td>0004_01</td>\n      <td>Earth</td>\n      <td>False</td>\n      <td>F/1/S</td>\n      <td>TRAPPIST-1e</td>\n      <td>16.00</td>\n      <td>False</td>\n      <td>303.00</td>\n      <td>70.00</td>\n      <td>151.00</td>\n      <td>565.00</td>\n      <td>2.00</td>\n      <td>Willy Santantines</td>\n      <td>True</td>\n    </tr>\n  </tbody>\n</table>\n</div>"
     },
     "execution_count": 48,
     "metadata": {},
     "output_type": "execute_result"
    }
   ],
   "source": [
    "train.head(5)"
   ],
   "metadata": {
    "collapsed": false,
    "pycharm": {
     "name": "#%%\n"
    }
   }
  },
  {
   "cell_type": "code",
   "execution_count": 49,
   "outputs": [
    {
     "data": {
      "text/plain": "PassengerId     8693\nHomePlanet      8492\nCryoSleep       8476\nCabin           8494\nDestination     8511\nAge             8514\nVIP             8490\nRoomService     8512\nFoodCourt       8510\nShoppingMall    8485\nSpa             8510\nVRDeck          8505\nName            8493\nTransported     8693\ndtype: int64"
     },
     "execution_count": 49,
     "metadata": {},
     "output_type": "execute_result"
    }
   ],
   "source": [
    "train.count()"
   ],
   "metadata": {
    "collapsed": false,
    "pycharm": {
     "name": "#%%\n"
    }
   }
  },
  {
   "cell_type": "code",
   "execution_count": 50,
   "outputs": [
    {
     "data": {
      "text/plain": "PassengerId       0\nHomePlanet      201\nCryoSleep       217\nCabin           199\nDestination     182\nAge             179\nVIP             203\nRoomService     181\nFoodCourt       183\nShoppingMall    208\nSpa             183\nVRDeck          188\nName            200\nTransported       0\ndtype: int64"
     },
     "execution_count": 50,
     "metadata": {},
     "output_type": "execute_result"
    }
   ],
   "source": [
    "train.isna().sum()"
   ],
   "metadata": {
    "collapsed": false,
    "pycharm": {
     "name": "#%%\n"
    }
   }
  },
  {
   "cell_type": "code",
   "execution_count": 51,
   "outputs": [
    {
     "name": "stdout",
     "output_type": "stream",
     "text": [
      "(8693, 14)\n",
      "Num of rows in training set: 8693\n",
      "Num of cols in training set: 14\n",
      "Num of vals in training set: 119378\n",
      "Num of rows in training set: 2324\n"
     ]
    }
   ],
   "source": [
    "print(train.shape)\n",
    "# print('Num of rows in training set: {}'.format(train.shape[0]))\n",
    "print(f'Num of rows in training set: {train.shape[0]}')\n",
    "print(f'Num of cols in training set: {train.shape[1]}')\n",
    "print(f'Num of vals in training set: {train.count().sum()}')\n",
    "print(f'Num of rows in training set: {sum(train.isna().sum())}')"
   ],
   "metadata": {
    "collapsed": false,
    "pycharm": {
     "name": "#%%\n"
    }
   }
  },
  {
   "cell_type": "code",
   "execution_count": 52,
   "outputs": [
    {
     "name": "stdout",
     "output_type": "stream",
     "text": [
      "CryoSleep       217\n",
      "ShoppingMall    208\n",
      "VIP             203\n",
      "HomePlanet      201\n",
      "Name            200\n",
      "Cabin           199\n",
      "VRDeck          188\n",
      "Spa             183\n",
      "FoodCourt       183\n",
      "Destination     182\n",
      "RoomService     181\n",
      "Age             179\n",
      "Transported       0\n",
      "PassengerId       0\n",
      "dtype: int64\n"
     ]
    }
   ],
   "source": [
    "print(train.isna().sum().sort_values(ascending = False))"
   ],
   "metadata": {
    "collapsed": false,
    "pycharm": {
     "name": "#%%\n"
    }
   }
  },
  {
   "cell_type": "code",
   "execution_count": 53,
   "outputs": [
    {
     "data": {
      "text/plain": "          Age  RoomService  FoodCourt  ShoppingMall      Spa   VRDeck\ncount 8514.00      8512.00    8510.00       8485.00  8510.00  8505.00\nmean    28.83       224.69     458.08        173.73   311.14   304.85\nstd     14.49       666.72    1611.49        604.70  1136.71  1145.72\nmin      0.00         0.00       0.00          0.00     0.00     0.00\n25%     19.00         0.00       0.00          0.00     0.00     0.00\n50%     27.00         0.00       0.00          0.00     0.00     0.00\n75%     38.00        47.00      76.00         27.00    59.00    46.00\nmax     79.00     14327.00   29813.00      23492.00 22408.00 24133.00",
      "text/html": "<div>\n<style scoped>\n    .dataframe tbody tr th:only-of-type {\n        vertical-align: middle;\n    }\n\n    .dataframe tbody tr th {\n        vertical-align: top;\n    }\n\n    .dataframe thead th {\n        text-align: right;\n    }\n</style>\n<table border=\"1\" class=\"dataframe\">\n  <thead>\n    <tr style=\"text-align: right;\">\n      <th></th>\n      <th>Age</th>\n      <th>RoomService</th>\n      <th>FoodCourt</th>\n      <th>ShoppingMall</th>\n      <th>Spa</th>\n      <th>VRDeck</th>\n    </tr>\n  </thead>\n  <tbody>\n    <tr>\n      <th>count</th>\n      <td>8514.00</td>\n      <td>8512.00</td>\n      <td>8510.00</td>\n      <td>8485.00</td>\n      <td>8510.00</td>\n      <td>8505.00</td>\n    </tr>\n    <tr>\n      <th>mean</th>\n      <td>28.83</td>\n      <td>224.69</td>\n      <td>458.08</td>\n      <td>173.73</td>\n      <td>311.14</td>\n      <td>304.85</td>\n    </tr>\n    <tr>\n      <th>std</th>\n      <td>14.49</td>\n      <td>666.72</td>\n      <td>1611.49</td>\n      <td>604.70</td>\n      <td>1136.71</td>\n      <td>1145.72</td>\n    </tr>\n    <tr>\n      <th>min</th>\n      <td>0.00</td>\n      <td>0.00</td>\n      <td>0.00</td>\n      <td>0.00</td>\n      <td>0.00</td>\n      <td>0.00</td>\n    </tr>\n    <tr>\n      <th>25%</th>\n      <td>19.00</td>\n      <td>0.00</td>\n      <td>0.00</td>\n      <td>0.00</td>\n      <td>0.00</td>\n      <td>0.00</td>\n    </tr>\n    <tr>\n      <th>50%</th>\n      <td>27.00</td>\n      <td>0.00</td>\n      <td>0.00</td>\n      <td>0.00</td>\n      <td>0.00</td>\n      <td>0.00</td>\n    </tr>\n    <tr>\n      <th>75%</th>\n      <td>38.00</td>\n      <td>47.00</td>\n      <td>76.00</td>\n      <td>27.00</td>\n      <td>59.00</td>\n      <td>46.00</td>\n    </tr>\n    <tr>\n      <th>max</th>\n      <td>79.00</td>\n      <td>14327.00</td>\n      <td>29813.00</td>\n      <td>23492.00</td>\n      <td>22408.00</td>\n      <td>24133.00</td>\n    </tr>\n  </tbody>\n</table>\n</div>"
     },
     "execution_count": 53,
     "metadata": {},
     "output_type": "execute_result"
    }
   ],
   "source": [
    "train.describe()"
   ],
   "metadata": {
    "collapsed": false,
    "pycharm": {
     "name": "#%%\n"
    }
   }
  },
  {
   "cell_type": "markdown",
   "source": [
    "## Explore Test set"
   ],
   "metadata": {
    "collapsed": false,
    "pycharm": {
     "name": "#%% md\n"
    }
   }
  },
  {
   "cell_type": "code",
   "execution_count": 54,
   "outputs": [
    {
     "data": {
      "text/plain": "  PassengerId HomePlanet CryoSleep  Cabin  Destination   Age    VIP  \\\n0     0013_01      Earth      True  G/3/S  TRAPPIST-1e 27.00  False   \n1     0018_01      Earth     False  F/4/S  TRAPPIST-1e 19.00  False   \n2     0019_01     Europa      True  C/0/S  55 Cancri e 31.00  False   \n3     0021_01     Europa     False  C/1/S  TRAPPIST-1e 38.00  False   \n4     0023_01      Earth     False  F/5/S  TRAPPIST-1e 20.00  False   \n5     0027_01      Earth     False  F/7/P  TRAPPIST-1e 31.00  False   \n6     0029_01     Europa      True  B/2/P  55 Cancri e 21.00  False   \n7     0032_01     Europa      True  D/0/S  TRAPPIST-1e 20.00  False   \n8     0032_02     Europa      True  D/0/S  55 Cancri e 23.00  False   \n9     0033_01      Earth     False  F/7/S  55 Cancri e 24.00  False   \n\n   RoomService  FoodCourt  ShoppingMall     Spa  VRDeck               Name  \n0         0.00       0.00          0.00    0.00    0.00    Nelly Carsoning  \n1         0.00       9.00          0.00 2823.00    0.00     Lerome Peckers  \n2         0.00       0.00          0.00    0.00    0.00    Sabih Unhearfus  \n3         0.00    6652.00          0.00  181.00  585.00   Meratz Caltilter  \n4        10.00       0.00        635.00    0.00    0.00    Brence Harperez  \n5         0.00    1615.00        263.00  113.00   60.00       Karlen Ricks  \n6         0.00        nan          0.00    0.00    0.00    Aldah Ainserfle  \n7         0.00       0.00          0.00    0.00    0.00     Acrabi Pringry  \n8         0.00       0.00          0.00    0.00    0.00      Dhena Pringry  \n9         0.00     639.00          0.00    0.00    0.00  Eliana Delazarson  ",
      "text/html": "<div>\n<style scoped>\n    .dataframe tbody tr th:only-of-type {\n        vertical-align: middle;\n    }\n\n    .dataframe tbody tr th {\n        vertical-align: top;\n    }\n\n    .dataframe thead th {\n        text-align: right;\n    }\n</style>\n<table border=\"1\" class=\"dataframe\">\n  <thead>\n    <tr style=\"text-align: right;\">\n      <th></th>\n      <th>PassengerId</th>\n      <th>HomePlanet</th>\n      <th>CryoSleep</th>\n      <th>Cabin</th>\n      <th>Destination</th>\n      <th>Age</th>\n      <th>VIP</th>\n      <th>RoomService</th>\n      <th>FoodCourt</th>\n      <th>ShoppingMall</th>\n      <th>Spa</th>\n      <th>VRDeck</th>\n      <th>Name</th>\n    </tr>\n  </thead>\n  <tbody>\n    <tr>\n      <th>0</th>\n      <td>0013_01</td>\n      <td>Earth</td>\n      <td>True</td>\n      <td>G/3/S</td>\n      <td>TRAPPIST-1e</td>\n      <td>27.00</td>\n      <td>False</td>\n      <td>0.00</td>\n      <td>0.00</td>\n      <td>0.00</td>\n      <td>0.00</td>\n      <td>0.00</td>\n      <td>Nelly Carsoning</td>\n    </tr>\n    <tr>\n      <th>1</th>\n      <td>0018_01</td>\n      <td>Earth</td>\n      <td>False</td>\n      <td>F/4/S</td>\n      <td>TRAPPIST-1e</td>\n      <td>19.00</td>\n      <td>False</td>\n      <td>0.00</td>\n      <td>9.00</td>\n      <td>0.00</td>\n      <td>2823.00</td>\n      <td>0.00</td>\n      <td>Lerome Peckers</td>\n    </tr>\n    <tr>\n      <th>2</th>\n      <td>0019_01</td>\n      <td>Europa</td>\n      <td>True</td>\n      <td>C/0/S</td>\n      <td>55 Cancri e</td>\n      <td>31.00</td>\n      <td>False</td>\n      <td>0.00</td>\n      <td>0.00</td>\n      <td>0.00</td>\n      <td>0.00</td>\n      <td>0.00</td>\n      <td>Sabih Unhearfus</td>\n    </tr>\n    <tr>\n      <th>3</th>\n      <td>0021_01</td>\n      <td>Europa</td>\n      <td>False</td>\n      <td>C/1/S</td>\n      <td>TRAPPIST-1e</td>\n      <td>38.00</td>\n      <td>False</td>\n      <td>0.00</td>\n      <td>6652.00</td>\n      <td>0.00</td>\n      <td>181.00</td>\n      <td>585.00</td>\n      <td>Meratz Caltilter</td>\n    </tr>\n    <tr>\n      <th>4</th>\n      <td>0023_01</td>\n      <td>Earth</td>\n      <td>False</td>\n      <td>F/5/S</td>\n      <td>TRAPPIST-1e</td>\n      <td>20.00</td>\n      <td>False</td>\n      <td>10.00</td>\n      <td>0.00</td>\n      <td>635.00</td>\n      <td>0.00</td>\n      <td>0.00</td>\n      <td>Brence Harperez</td>\n    </tr>\n    <tr>\n      <th>5</th>\n      <td>0027_01</td>\n      <td>Earth</td>\n      <td>False</td>\n      <td>F/7/P</td>\n      <td>TRAPPIST-1e</td>\n      <td>31.00</td>\n      <td>False</td>\n      <td>0.00</td>\n      <td>1615.00</td>\n      <td>263.00</td>\n      <td>113.00</td>\n      <td>60.00</td>\n      <td>Karlen Ricks</td>\n    </tr>\n    <tr>\n      <th>6</th>\n      <td>0029_01</td>\n      <td>Europa</td>\n      <td>True</td>\n      <td>B/2/P</td>\n      <td>55 Cancri e</td>\n      <td>21.00</td>\n      <td>False</td>\n      <td>0.00</td>\n      <td>nan</td>\n      <td>0.00</td>\n      <td>0.00</td>\n      <td>0.00</td>\n      <td>Aldah Ainserfle</td>\n    </tr>\n    <tr>\n      <th>7</th>\n      <td>0032_01</td>\n      <td>Europa</td>\n      <td>True</td>\n      <td>D/0/S</td>\n      <td>TRAPPIST-1e</td>\n      <td>20.00</td>\n      <td>False</td>\n      <td>0.00</td>\n      <td>0.00</td>\n      <td>0.00</td>\n      <td>0.00</td>\n      <td>0.00</td>\n      <td>Acrabi Pringry</td>\n    </tr>\n    <tr>\n      <th>8</th>\n      <td>0032_02</td>\n      <td>Europa</td>\n      <td>True</td>\n      <td>D/0/S</td>\n      <td>55 Cancri e</td>\n      <td>23.00</td>\n      <td>False</td>\n      <td>0.00</td>\n      <td>0.00</td>\n      <td>0.00</td>\n      <td>0.00</td>\n      <td>0.00</td>\n      <td>Dhena Pringry</td>\n    </tr>\n    <tr>\n      <th>9</th>\n      <td>0033_01</td>\n      <td>Earth</td>\n      <td>False</td>\n      <td>F/7/S</td>\n      <td>55 Cancri e</td>\n      <td>24.00</td>\n      <td>False</td>\n      <td>0.00</td>\n      <td>639.00</td>\n      <td>0.00</td>\n      <td>0.00</td>\n      <td>0.00</td>\n      <td>Eliana Delazarson</td>\n    </tr>\n  </tbody>\n</table>\n</div>"
     },
     "execution_count": 54,
     "metadata": {},
     "output_type": "execute_result"
    }
   ],
   "source": [
    "test.head(10)"
   ],
   "metadata": {
    "collapsed": false,
    "pycharm": {
     "name": "#%%\n"
    }
   }
  },
  {
   "cell_type": "code",
   "execution_count": 55,
   "outputs": [
    {
     "name": "stdout",
     "output_type": "stream",
     "text": [
      "Num of rows in test set: 4277\n",
      "Num of columns in test set: 13\n",
      "Num of values in test set: 54484\n",
      "Num of rows with missing values in test set: 1117\n"
     ]
    }
   ],
   "source": [
    "print(f'Num of rows in test set: {test.shape[0]}')\n",
    "print(f'Num of columns in test set: {test.shape[1]}')\n",
    "print(f'Num of values in test set: {test.count().sum()}')\n",
    "print(f'Num of rows with missing values in test set: {sum(test.isna().sum())}')"
   ],
   "metadata": {
    "collapsed": false,
    "pycharm": {
     "name": "#%%\n"
    }
   }
  },
  {
   "cell_type": "code",
   "execution_count": 56,
   "outputs": [
    {
     "name": "stdout",
     "output_type": "stream",
     "text": [
      "FoodCourt       106\n",
      "Spa             101\n",
      "Cabin           100\n",
      "ShoppingMall     98\n",
      "Name             94\n",
      "VIP              93\n",
      "CryoSleep        93\n",
      "Destination      92\n",
      "Age              91\n",
      "HomePlanet       87\n",
      "RoomService      82\n",
      "VRDeck           80\n",
      "PassengerId       0\n",
      "dtype: int64\n"
     ]
    }
   ],
   "source": [
    "print((test.isna().sum().sort_values(ascending = False)))"
   ],
   "metadata": {
    "collapsed": false,
    "pycharm": {
     "name": "#%%\n"
    }
   }
  },
  {
   "cell_type": "code",
   "execution_count": 57,
   "outputs": [
    {
     "data": {
      "text/plain": "          Age  RoomService  FoodCourt  ShoppingMall      Spa   VRDeck\ncount 4186.00      4195.00    4171.00       4179.00  4176.00  4197.00\nmean    28.66       219.27     439.48        177.30   303.05   310.71\nstd     14.18       607.01    1527.66        560.82  1117.19  1246.99\nmin      0.00         0.00       0.00          0.00     0.00     0.00\n25%     19.00         0.00       0.00          0.00     0.00     0.00\n50%     26.00         0.00       0.00          0.00     0.00     0.00\n75%     37.00        53.00      78.00         33.00    50.00    36.00\nmax     79.00     11567.00   25273.00       8292.00 19844.00 22272.00",
      "text/html": "<div>\n<style scoped>\n    .dataframe tbody tr th:only-of-type {\n        vertical-align: middle;\n    }\n\n    .dataframe tbody tr th {\n        vertical-align: top;\n    }\n\n    .dataframe thead th {\n        text-align: right;\n    }\n</style>\n<table border=\"1\" class=\"dataframe\">\n  <thead>\n    <tr style=\"text-align: right;\">\n      <th></th>\n      <th>Age</th>\n      <th>RoomService</th>\n      <th>FoodCourt</th>\n      <th>ShoppingMall</th>\n      <th>Spa</th>\n      <th>VRDeck</th>\n    </tr>\n  </thead>\n  <tbody>\n    <tr>\n      <th>count</th>\n      <td>4186.00</td>\n      <td>4195.00</td>\n      <td>4171.00</td>\n      <td>4179.00</td>\n      <td>4176.00</td>\n      <td>4197.00</td>\n    </tr>\n    <tr>\n      <th>mean</th>\n      <td>28.66</td>\n      <td>219.27</td>\n      <td>439.48</td>\n      <td>177.30</td>\n      <td>303.05</td>\n      <td>310.71</td>\n    </tr>\n    <tr>\n      <th>std</th>\n      <td>14.18</td>\n      <td>607.01</td>\n      <td>1527.66</td>\n      <td>560.82</td>\n      <td>1117.19</td>\n      <td>1246.99</td>\n    </tr>\n    <tr>\n      <th>min</th>\n      <td>0.00</td>\n      <td>0.00</td>\n      <td>0.00</td>\n      <td>0.00</td>\n      <td>0.00</td>\n      <td>0.00</td>\n    </tr>\n    <tr>\n      <th>25%</th>\n      <td>19.00</td>\n      <td>0.00</td>\n      <td>0.00</td>\n      <td>0.00</td>\n      <td>0.00</td>\n      <td>0.00</td>\n    </tr>\n    <tr>\n      <th>50%</th>\n      <td>26.00</td>\n      <td>0.00</td>\n      <td>0.00</td>\n      <td>0.00</td>\n      <td>0.00</td>\n      <td>0.00</td>\n    </tr>\n    <tr>\n      <th>75%</th>\n      <td>37.00</td>\n      <td>53.00</td>\n      <td>78.00</td>\n      <td>33.00</td>\n      <td>50.00</td>\n      <td>36.00</td>\n    </tr>\n    <tr>\n      <th>max</th>\n      <td>79.00</td>\n      <td>11567.00</td>\n      <td>25273.00</td>\n      <td>8292.00</td>\n      <td>19844.00</td>\n      <td>22272.00</td>\n    </tr>\n  </tbody>\n</table>\n</div>"
     },
     "execution_count": 57,
     "metadata": {},
     "output_type": "execute_result"
    }
   ],
   "source": [
    "test.describe()"
   ],
   "metadata": {
    "collapsed": false,
    "pycharm": {
     "name": "#%%\n"
    }
   }
  },
  {
   "cell_type": "markdown",
   "source": [
    "## Exploratory Data Analysis (EDA)"
   ],
   "metadata": {
    "collapsed": false,
    "pycharm": {
     "name": "#%% md\n"
    }
   }
  },
  {
   "cell_type": "code",
   "execution_count": 58,
   "outputs": [],
   "source": [
    "train.drop(['PassengerId'], axis = 1, inplace = True)\n",
    "test.drop(['PassengerId'], axis = 1, inplace = True)\n",
    "TARGET = 'Transported'\n",
    "FEATURES = [col for col in train.columns if col != TARGET]\n",
    "RANDOM_STATE = 12"
   ],
   "metadata": {
    "collapsed": false,
    "pycharm": {
     "name": "#%%\n"
    }
   }
  },
  {
   "cell_type": "code",
   "execution_count": 61,
   "outputs": [
    {
     "data": {
      "text/plain": "     HomePlanet CryoSleep     Cabin    Destination   Age    VIP  RoomService  \\\n0        Europa     False     B/0/P    TRAPPIST-1e 39.00  False         0.00   \n1         Earth     False     F/0/S    TRAPPIST-1e 24.00  False       109.00   \n2        Europa     False     A/0/S    TRAPPIST-1e 58.00   True        43.00   \n3        Europa     False     A/0/S    TRAPPIST-1e 33.00  False         0.00   \n4         Earth     False     F/1/S    TRAPPIST-1e 16.00  False       303.00   \n...         ...       ...       ...            ...   ...    ...          ...   \n8688     Europa     False    A/98/P    55 Cancri e 41.00   True         0.00   \n8689      Earth      True  G/1499/S  PSO J318.5-22 18.00  False         0.00   \n8690      Earth     False  G/1500/S    TRAPPIST-1e 26.00  False         0.00   \n8691     Europa     False   E/608/S    55 Cancri e 32.00  False         0.00   \n8692     Europa     False   E/608/S    TRAPPIST-1e 44.00  False       126.00   \n\n      FoodCourt  ShoppingMall     Spa  VRDeck               Name  \n0          0.00          0.00    0.00    0.00    Maham Ofracculy  \n1          9.00         25.00  549.00   44.00       Juanna Vines  \n2       3576.00          0.00 6715.00   49.00      Altark Susent  \n3       1283.00        371.00 3329.00  193.00       Solam Susent  \n4         70.00        151.00  565.00    2.00  Willy Santantines  \n...         ...           ...     ...     ...                ...  \n8688    6819.00          0.00 1643.00   74.00  Gravior Noxnuther  \n8689       0.00          0.00    0.00    0.00    Kurta Mondalley  \n8690       0.00       1872.00    1.00    0.00       Fayey Connon  \n8691    1049.00          0.00  353.00 3235.00   Celeon Hontichre  \n8692    4688.00          0.00    0.00   12.00   Propsh Hontichre  \n\n[8693 rows x 12 columns]",
      "text/html": "<div>\n<style scoped>\n    .dataframe tbody tr th:only-of-type {\n        vertical-align: middle;\n    }\n\n    .dataframe tbody tr th {\n        vertical-align: top;\n    }\n\n    .dataframe thead th {\n        text-align: right;\n    }\n</style>\n<table border=\"1\" class=\"dataframe\">\n  <thead>\n    <tr style=\"text-align: right;\">\n      <th></th>\n      <th>HomePlanet</th>\n      <th>CryoSleep</th>\n      <th>Cabin</th>\n      <th>Destination</th>\n      <th>Age</th>\n      <th>VIP</th>\n      <th>RoomService</th>\n      <th>FoodCourt</th>\n      <th>ShoppingMall</th>\n      <th>Spa</th>\n      <th>VRDeck</th>\n      <th>Name</th>\n    </tr>\n  </thead>\n  <tbody>\n    <tr>\n      <th>0</th>\n      <td>Europa</td>\n      <td>False</td>\n      <td>B/0/P</td>\n      <td>TRAPPIST-1e</td>\n      <td>39.00</td>\n      <td>False</td>\n      <td>0.00</td>\n      <td>0.00</td>\n      <td>0.00</td>\n      <td>0.00</td>\n      <td>0.00</td>\n      <td>Maham Ofracculy</td>\n    </tr>\n    <tr>\n      <th>1</th>\n      <td>Earth</td>\n      <td>False</td>\n      <td>F/0/S</td>\n      <td>TRAPPIST-1e</td>\n      <td>24.00</td>\n      <td>False</td>\n      <td>109.00</td>\n      <td>9.00</td>\n      <td>25.00</td>\n      <td>549.00</td>\n      <td>44.00</td>\n      <td>Juanna Vines</td>\n    </tr>\n    <tr>\n      <th>2</th>\n      <td>Europa</td>\n      <td>False</td>\n      <td>A/0/S</td>\n      <td>TRAPPIST-1e</td>\n      <td>58.00</td>\n      <td>True</td>\n      <td>43.00</td>\n      <td>3576.00</td>\n      <td>0.00</td>\n      <td>6715.00</td>\n      <td>49.00</td>\n      <td>Altark Susent</td>\n    </tr>\n    <tr>\n      <th>3</th>\n      <td>Europa</td>\n      <td>False</td>\n      <td>A/0/S</td>\n      <td>TRAPPIST-1e</td>\n      <td>33.00</td>\n      <td>False</td>\n      <td>0.00</td>\n      <td>1283.00</td>\n      <td>371.00</td>\n      <td>3329.00</td>\n      <td>193.00</td>\n      <td>Solam Susent</td>\n    </tr>\n    <tr>\n      <th>4</th>\n      <td>Earth</td>\n      <td>False</td>\n      <td>F/1/S</td>\n      <td>TRAPPIST-1e</td>\n      <td>16.00</td>\n      <td>False</td>\n      <td>303.00</td>\n      <td>70.00</td>\n      <td>151.00</td>\n      <td>565.00</td>\n      <td>2.00</td>\n      <td>Willy Santantines</td>\n    </tr>\n    <tr>\n      <th>...</th>\n      <td>...</td>\n      <td>...</td>\n      <td>...</td>\n      <td>...</td>\n      <td>...</td>\n      <td>...</td>\n      <td>...</td>\n      <td>...</td>\n      <td>...</td>\n      <td>...</td>\n      <td>...</td>\n      <td>...</td>\n    </tr>\n    <tr>\n      <th>8688</th>\n      <td>Europa</td>\n      <td>False</td>\n      <td>A/98/P</td>\n      <td>55 Cancri e</td>\n      <td>41.00</td>\n      <td>True</td>\n      <td>0.00</td>\n      <td>6819.00</td>\n      <td>0.00</td>\n      <td>1643.00</td>\n      <td>74.00</td>\n      <td>Gravior Noxnuther</td>\n    </tr>\n    <tr>\n      <th>8689</th>\n      <td>Earth</td>\n      <td>True</td>\n      <td>G/1499/S</td>\n      <td>PSO J318.5-22</td>\n      <td>18.00</td>\n      <td>False</td>\n      <td>0.00</td>\n      <td>0.00</td>\n      <td>0.00</td>\n      <td>0.00</td>\n      <td>0.00</td>\n      <td>Kurta Mondalley</td>\n    </tr>\n    <tr>\n      <th>8690</th>\n      <td>Earth</td>\n      <td>False</td>\n      <td>G/1500/S</td>\n      <td>TRAPPIST-1e</td>\n      <td>26.00</td>\n      <td>False</td>\n      <td>0.00</td>\n      <td>0.00</td>\n      <td>1872.00</td>\n      <td>1.00</td>\n      <td>0.00</td>\n      <td>Fayey Connon</td>\n    </tr>\n    <tr>\n      <th>8691</th>\n      <td>Europa</td>\n      <td>False</td>\n      <td>E/608/S</td>\n      <td>55 Cancri e</td>\n      <td>32.00</td>\n      <td>False</td>\n      <td>0.00</td>\n      <td>1049.00</td>\n      <td>0.00</td>\n      <td>353.00</td>\n      <td>3235.00</td>\n      <td>Celeon Hontichre</td>\n    </tr>\n    <tr>\n      <th>8692</th>\n      <td>Europa</td>\n      <td>False</td>\n      <td>E/608/S</td>\n      <td>TRAPPIST-1e</td>\n      <td>44.00</td>\n      <td>False</td>\n      <td>126.00</td>\n      <td>4688.00</td>\n      <td>0.00</td>\n      <td>0.00</td>\n      <td>12.00</td>\n      <td>Propsh Hontichre</td>\n    </tr>\n  </tbody>\n</table>\n<p>8693 rows × 12 columns</p>\n</div>"
     },
     "execution_count": 61,
     "metadata": {},
     "output_type": "execute_result"
    }
   ],
   "source": [
    "train.iloc[:, :-1]"
   ],
   "metadata": {
    "collapsed": false,
    "pycharm": {
     "name": "#%%\n"
    }
   }
  },
  {
   "cell_type": "code",
   "execution_count": null,
   "outputs": [],
   "source": [],
   "metadata": {
    "collapsed": false,
    "pycharm": {
     "name": "#%%\n"
    }
   }
  }
 ],
 "metadata": {
  "kernelspec": {
   "display_name": "Python 3",
   "language": "python",
   "name": "python3"
  },
  "language_info": {
   "codemirror_mode": {
    "name": "ipython",
    "version": 2
   },
   "file_extension": ".py",
   "mimetype": "text/x-python",
   "name": "python",
   "nbconvert_exporter": "python",
   "pygments_lexer": "ipython2",
   "version": "2.7.6"
  }
 },
 "nbformat": 4,
 "nbformat_minor": 0
}